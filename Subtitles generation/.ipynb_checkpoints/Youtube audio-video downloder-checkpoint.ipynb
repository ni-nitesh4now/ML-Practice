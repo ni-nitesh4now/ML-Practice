{
 "cells": [
  {
   "cell_type": "code",
   "execution_count": null,
   "id": "f030f98a",
   "metadata": {},
   "outputs": [
    {
     "name": "stdout",
     "output_type": "stream",
     "text": [
      "Video saved successfully at: C:/Users/nites/Downloads/c sxsxsx.mp4\n"
     ]
    }
   ],
   "source": [
    "from tkinter import Tk, Button, Label, Entry, filedialog, StringVar, Radiobutton, LabelFrame\n",
    "from pytube import YouTube\n",
    "\n",
    "# Create the Tkinter window\n",
    "root = Tk()\n",
    "root.title(\"YouTube Video Downloader\")\n",
    "\n",
    "# Create and position the frame for quality selection\n",
    "quality_frame = LabelFrame(root, text=\"Select video quality\")\n",
    "quality_frame.pack(pady=10)\n",
    "\n",
    "# Create StringVar to store the selected quality and status message\n",
    "selected_quality = StringVar()\n",
    "status_message = StringVar()\n",
    "\n",
    "# Define the available quality options\n",
    "quality_options = [(\"Moderate (360p)\", \"360p\"), (\"Best (720p)\", \"720p\")]\n",
    "\n",
    "# Create and position the quality radio buttons\n",
    "for option_text, option_value in quality_options:\n",
    "    radio_button = Radiobutton(quality_frame, text=option_text, variable=selected_quality, value=option_value)\n",
    "    radio_button.pack(anchor='w')\n",
    "\n",
    "# Function to handle the download button click\n",
    "def download_video():\n",
    "    # Get the YouTube video link from the input field\n",
    "    video_link = link_entry.get()\n",
    "\n",
    "    try:\n",
    "        # Prompt the user to select the save path\n",
    "        save_path = filedialog.asksaveasfilename(defaultextension=\".mp4\")\n",
    "        if save_path:\n",
    "            # Create a YouTube object\n",
    "            youtube = YouTube(video_link)\n",
    "\n",
    "            # Get the selected quality\n",
    "            quality = selected_quality.get()\n",
    "            if quality:\n",
    "                # Get the stream for the selected quality\n",
    "                video_stream = youtube.streams.filter(progressive=True, file_extension='mp4', resolution=quality).first()\n",
    "\n",
    "                if video_stream:\n",
    "                    # Update the status message\n",
    "                    status_message.set(\"Downloading...\")\n",
    "\n",
    "                    # Download the selected video stream\n",
    "                    video_stream.download(save_path)\n",
    "                    print(\"Video saved successfully at:\", save_path)\n",
    "\n",
    "                    # Update the status message\n",
    "                    status_message.set(\"Download Completed\")\n",
    "\n",
    "                else:\n",
    "                    print(\"Invalid quality selection.\")\n",
    "\n",
    "    except Exception as e:\n",
    "        print(\"Error occurred during video download:\", e)\n",
    "\n",
    "# Create and position the label for video link entry\n",
    "link_label = Label(root, text=\"Enter YouTube video link:\")\n",
    "link_label.pack(pady=10)\n",
    "\n",
    "# Create and position the entry field for video link\n",
    "link_entry = Entry(root, width=50)\n",
    "link_entry.pack(pady=5)\n",
    "\n",
    "# Create and position the status label\n",
    "status_label = Label(root, textvariable=status_message)\n",
    "status_label.pack()\n",
    "\n",
    "# Create and position the download button\n",
    "download_button = Button(root, text=\"Download\", command=download_video)\n",
    "download_button.pack(pady=10)\n",
    "\n",
    "# Run the Tkinter event loop\n",
    "root.mainloop()"
   ]
  },
  {
   "cell_type": "code",
   "execution_count": null,
   "id": "99a139c7",
   "metadata": {},
   "outputs": [],
   "source": []
  }
 ],
 "metadata": {
  "kernelspec": {
   "display_name": "Python 3 (ipykernel)",
   "language": "python",
   "name": "python3"
  },
  "language_info": {
   "codemirror_mode": {
    "name": "ipython",
    "version": 3
   },
   "file_extension": ".py",
   "mimetype": "text/x-python",
   "name": "python",
   "nbconvert_exporter": "python",
   "pygments_lexer": "ipython3",
   "version": "3.10.9"
  }
 },
 "nbformat": 4,
 "nbformat_minor": 5
}
