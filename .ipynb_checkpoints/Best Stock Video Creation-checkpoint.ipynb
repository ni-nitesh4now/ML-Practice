{
 "cells": [
  {
   "cell_type": "code",
   "execution_count": 1,
   "id": "759b210e",
   "metadata": {},
   "outputs": [
    {
     "name": "stdout",
     "output_type": "stream",
     "text": [
      "Name List: ['Tesla, Inc.', 'Palantir Technologies Inc.', 'FORD MTR CO DEL', 'Amazon.com, Inc.', 'Marvell Technology, Inc.', 'Advanced Micro Devices Inc', 'Intel Corporation', 'NVIDIA Corporation', 'Elevation Oncology, Inc.', 'Bank of America Corporation', 'Apple Inc', 'C3.ai, Inc.', 'AT&T Inc.', 'Microsoft Corp.', 'Comcast Corporation', 'Micron Technology, Inc.', 'Marathon Digital Holdings, Inc.', 'Gap, Inc. (The)', 'Carnival Corporation', 'Virgin Galactic Holdings, Inc.', 'SoFi Technologies, Inc.', 'Rivian Automotive, Inc.', 'Paramount Global', 'Meta Platforms, Inc.', 'Alphabet Inc (Google) Class C', 'Nu Holdings Ltd.', 'UiPath, Inc.', 'SoundHound AI, Inc.', 'Hewlett Packard Enterprise Company', 'Warner Bros. Discovery, Inc. - Series A', 'PayPal Holdings, Inc.', 'Snap Inc.', 'Pfizer, Inc.', 'Cisco Systems, Inc.', 'PacWest Bancorp', 'Plug Power, Inc.', 'Riot Platforms, Inc.', 'Verizon Communications Inc.', 'Wells Fargo & Company', 'American Airlines Group, Inc.', 'Vertiv Holdings, LLC', 'QUALCOMM Incorporated', \"Macy's Inc\", 'Pacific Gas & Electric Co.', 'Tingo Group, Inc.', 'Lucid Group, Inc.', 'Uber Technologies, Inc.', 'KeyCorp', 'Freeport-McMoRan, Inc.', 'Southwestern Energy Company', 'Lyft, Inc.', 'Oracle Corporation', 'Geron Corporation', 'General Motors Company', 'Shopify Inc.', 'Sirius XM Holdings Inc.', 'Carvana Co.', 'Opendoor Technologies Inc', 'Keurig Dr Pepper Inc.', 'Walt Disney Company (The)', 'PagSeguro Digital Ltd.', 'Kinder Morgan, Inc.', 'Coca-Cola Company (The)', 'DISH Network Corporation', 'Grab Holdings Limited', 'Exxon Mobil Corporation', 'CSX Corporation', 'Schlumberger N.V.', 'Citigroup, Inc.', 'AMC Entertainment Holdings, Inc.', 'Charles Schwab Corporation (The)', 'Snowflake Inc.', 'Sabre Corporation', 'Barrick Gold Corporation', 'Presto Automation, Inc.', 'Transocean Ltd (Switzerland)', 'IonQ, Inc.', 'DLocal Limited', 'ON Semiconductor Corporation', 'Digital Turbine, Inc.', 'Norwegian Cruise Line Holdings Ltd.', 'Qualtrics International Inc.', 'Block, Inc.', 'Occidental Petroleum Corporation', 'Halliburton Company', 'Coupang, Inc.', 'EQT Corporation', 'Medtronic plc.', 'Viatris Inc.', 'DraftKings Inc.', 'Netflix, Inc.', 'U.S. Bancorp', 'Equitrans Midstream Corporation', 'Marathon Oil Corporation', 'Pinterest, Inc.', 'Applied Materials, Inc.', 'American Eagle Outfitters, Inc.', 'Huntington Bancshares Incorporated', 'FuelCell Energy, Inc.', 'V.F. Corporation']\n",
      "Key List: ['NASDAQ-TSLA', 'NYSE-PLTR', 'NYSE-F', 'NASDAQ-AMZN', 'NASDAQ-MRVL', 'NASDAQ-AMD', 'NASDAQ-INTC', 'NASDAQ-NVDA', 'NASDAQ-ELEV', 'NYSE-BAC', 'NASDAQ-AAPL', 'NYSE-AI', 'NYSE-T', 'NASDAQ-MSFT', 'NASDAQ-CMCSA', 'NASDAQ-MU', 'NASDAQ-MARA', 'NYSE-GPS', 'NYSE-CCL', 'NYSE-SPCE', 'NASDAQ-SOFI', 'NASDAQ-RIVN', 'NASDAQ-PARA', 'NASDAQ-META', 'NASDAQ-GOOG', 'NYSE-NU', 'NYSE-PATH', 'NASDAQ-SOUN', 'NYSE-HPE', 'NASDAQ-WBD', 'NASDAQ-PYPL', 'NYSE-SNAP', 'NYSE-PFE', 'NASDAQ-CSCO', 'NASDAQ-PACW', 'NASDAQ-PLUG', 'NASDAQ-RIOT', 'NYSE-VZ', 'NYSE-WFC', 'NASDAQ-AAL', 'NYSE-VRT', 'NASDAQ-QCOM', 'NYSE-M', 'NYSE-PCG', 'NASDAQ-TIO', 'NASDAQ-LCID', 'NYSE-UBER', 'NYSE-KEY', 'NYSE-FCX', 'NYSE-SWN', 'NASDAQ-LYFT', 'NYSE-ORCL', 'NASDAQ-GERN', 'NYSE-GM', 'NYSE-SHOP', 'NASDAQ-SIRI', 'NYSE-CVNA', 'NASDAQ-OPEN', 'NASDAQ-KDP', 'NYSE-DIS', 'NYSE-PAGS', 'NYSE-KMI', 'NYSE-KO', 'NASDAQ-DISH', 'NASDAQ-GRAB', 'NYSE-XOM', 'NASDAQ-CSX', 'NYSE-SLB', 'NYSE-C', 'NYSE-AMC', 'NYSE-SCHW', 'NYSE-SNOW', 'NASDAQ-SABR', 'NYSE-GOLD', 'NASDAQ-PRST', 'NYSE-RIG', 'NYSE-IONQ', 'NASDAQ-DLO', 'NASDAQ-ON', 'NASDAQ-APPS', 'NYSE-NCLH', 'NASDAQ-XM', 'NYSE-SQ', 'NYSE-OXY', 'NYSE-HAL', 'NYSE-CPNG', 'NYSE-EQT', 'NYSE-MDT', 'NASDAQ-VTRS', 'NASDAQ-DKNG', 'NASDAQ-NFLX', 'NYSE-USB', 'NYSE-ETRN', 'NYSE-MRO', 'NYSE-PINS', 'NASDAQ-AMAT', 'NYSE-AEO', 'NASDAQ-HBAN', 'NASDAQ-FCEL', 'NYSE-VFC']\n",
      "Recomendation List: ['Buy', 'Strong Buy', 'Buy', 'Strong Buy', 'Strong Buy', 'Strong Buy', 'Sell', 'Strong Buy', 'Strong Buy', 'Buy', 'Buy', 'Strong Buy', 'Sell', 'Strong Buy', 'Neutral', 'Strong Buy', 'Sell', 'Buy', 'Strong Buy', 'Strong Sell', 'Buy', 'Buy', 'Sell', 'Strong Buy', 'Strong Buy', 'Buy', 'Strong Buy', 'Buy', 'Buy', 'Sell', 'Sell', 'Buy', 'Sell', 'Strong Buy', 'Neutral', 'Sell', 'Sell', 'Sell', 'Buy', 'Buy', 'Strong Buy', 'Buy', 'Sell', 'Sell', 'Sell', 'Buy', 'Buy', 'Sell', 'Sell', 'Strong Sell', 'Sell', 'Strong Buy', 'Strong Buy', 'Buy', 'Buy', 'Sell', 'Buy', 'Buy', 'Strong Sell', 'Sell', 'Sell', 'Strong Sell', 'Sell', 'Sell', 'Neutral', 'Sell', 'Sell', 'Sell', 'Sell', 'Sell', 'Neutral', 'Sell', 'Strong Sell', 'Strong Sell', 'Buy', 'Buy', 'Strong Buy', 'Strong Sell', 'Strong Buy', 'Sell', 'Strong Buy', 'Buy', 'Sell', 'Sell', 'Sell', 'Sell', 'Buy', 'Strong Sell', 'Sell', 'Neutral', 'Strong Buy', 'Sell', 'Buy', 'Sell', 'Neutral', 'Strong Buy', 'Sell', 'Buy', 'Strong Sell', 'Sell']\n"
     ]
    }
   ],
   "source": [
    "import csv\n",
    "from selenium import webdriver\n",
    "from selenium.webdriver.common.by import By\n",
    "\n",
    "# Create a WebDriver instance (e.g., ChromeDriver)\n",
    "driver = webdriver.Chrome()\n",
    "\n",
    "# Open the website\n",
    "driver.get(\"https://www.tradingview.com/markets/stocks-usa/market-movers-active/\")\n",
    "\n",
    "# Find all the <tr> elements in the table\n",
    "tr_elements = driver.find_elements(By.XPATH, \"//table//tr\")\n",
    "\n",
    "# Create lists to store the data\n",
    "name_list = []\n",
    "keys_list = []\n",
    "recomendation = []\n",
    "\n",
    "# Loop through each <tr> element and get the value of 'data-rowkey' attribute\n",
    "for tr in tr_elements:\n",
    "    # Get the value of 'data-rowkey' attribute\n",
    "    rowkey = tr.get_attribute(\"data-rowkey\")\n",
    "    if rowkey:\n",
    "        # Find the first <td> element within the <tr>\n",
    "        td_el = tr.find_element(By.XPATH, './td[1]')\n",
    "        # Find the <span> element within the <td>\n",
    "        span_element = td_el.find_element(By.XPATH, './span')\n",
    "        # Find the <sup> element within the <span>\n",
    "        sup_element = span_element.find_element(By.XPATH, './sup')\n",
    "        # Get the text content of the <sup> element\n",
    "        sup_text = sup_element.text\n",
    "        # Find the sixth <td> element within the <tr> element\n",
    "        td_element = tr.find_element(By.XPATH, \".//td[6]\")\n",
    "        # Get the text content of the <td> element\n",
    "        rec = td_element.text\n",
    "        rowkey = rowkey.replace(\":\", \"-\")  # Replace ':' with '-'\n",
    "\n",
    "        # Append the data to the lists\n",
    "        name_list.append(sup_text)\n",
    "        keys_list.append(rowkey)\n",
    "        recomendation.append(rec)\n",
    "\n",
    "driver.quit()\n",
    "\n",
    "# Print the lists\n",
    "print(\"Name List:\", name_list)\n",
    "print(\"Key List:\", keys_list)\n",
    "print(\"Recomendation List:\", recomendation)\n"
   ]
  },
  {
   "cell_type": "code",
   "execution_count": 2,
   "id": "6f88debd",
   "metadata": {},
   "outputs": [],
   "source": [
    "# importing libraries\n",
    "import os\n",
    "import cv2 \n",
    "import time\n",
    "from selenium import webdriver\n",
    "from selenium.webdriver.common.by import By\n",
    "from PIL import Image \n",
    "from moviepy.editor import *\n",
    "from gtts import gTTS"
   ]
  },
  {
   "cell_type": "code",
   "execution_count": 3,
   "id": "c75871c8",
   "metadata": {},
   "outputs": [],
   "source": [
    "# Create a WebDriver instance (e.g., ChromeDriver)\n",
    "driver = webdriver.Chrome()\n",
    "# Get web page, with window size set to 1080 x 1080\n",
    "driver.set_window_size(1500, 800)\n",
    "driver.get(\"https://www.tradingview.com/markets/stocks-usa/market-movers-active/\")\n",
    "time.sleep(3)"
   ]
  },
  {
   "cell_type": "code",
   "execution_count": 4,
   "id": "960d34ed",
   "metadata": {},
   "outputs": [
    {
     "name": "stdout",
     "output_type": "stream",
     "text": [
      "C:\\Users\\nites\\Downloads\\ML Project\n"
     ]
    }
   ],
   "source": [
    "# Checking the current directory path\n",
    "print(os.getcwd()) \n",
    "  \n",
    "# Folder which contains all the images\n",
    "# from which video is to be generated\n",
    "os.chdir(\"C:/Users/nites/Downloads/ML Project/images\")  #Directory with images\n",
    "path = \"C:/Users/nites/Downloads/ML Project/images\" # Directory with images\n",
    "  \n",
    "mean_height = 0\n",
    "mean_width = 0\n",
    "\n",
    "\n",
    "urlpage = \"https://www.tradingview.com/symbols/\" + str(keys_list[0])\n",
    "driver.get(urlpage)\n",
    "# Wait for page to load chart and then screenshot chart.\n",
    "time.sleep(2)\n",
    "#Scroll down for best view of chart\n",
    "driver.execute_script(\"window.scrollTo(0, 350)\")\n",
    "#Wait for page to load chart and then screenshot chart.\n",
    "time.sleep(2)\n",
    "driver.get_screenshot_as_file(\"currentTopMover.png\")\n",
    "\n",
    "urlpage = \"https://www.tradingview.com/symbols/\" + str(keys_list[0]) + \"/technicals\"\n",
    "driver.get(urlpage)\n",
    "driver.execute_script(\"window.scrollTo(0, 410)\")\n",
    "time.sleep(5)\n",
    "driver.get_screenshot_as_file(\"indicators.png\")\n",
    "driver.quit()  \n",
    "\n",
    "text = \"The current top moving stock   is \" + str(name_list[0]) + \". It's oscillators are indicating \" + str(recomendation[0])+ '.'\n",
    "language = 'en'"
   ]
  },
  {
   "cell_type": "code",
   "execution_count": 5,
   "id": "aab54ba1",
   "metadata": {},
   "outputs": [],
   "source": [
    "myAudio = gTTS(text=text, lang=language, slow=False)\n",
    "myAudio.save('audio.mp3')"
   ]
  },
  {
   "cell_type": "code",
   "execution_count": 6,
   "id": "0f3125f9",
   "metadata": {},
   "outputs": [
    {
     "name": "stdout",
     "output_type": "stream",
     "text": [
      "1424\n",
      "3718\n"
     ]
    }
   ],
   "source": [
    "for file in os.listdir('.'):\n",
    "    if file.endswith(\".jpg\") or file.endswith(\".jpeg\") or file.endswith(\"png\"):\n",
    "        im = Image.open(os.path.join(path, file))\n",
    "        width, height = im.size\n",
    "        mean_width += width\n",
    "        mean_height += height\n",
    "\n",
    "mean_width = int(mean_width / 1)\n",
    "mean_height = int(mean_height / 1)\n",
    "print(mean_height)\n",
    "print(mean_width)"
   ]
  },
  {
   "cell_type": "code",
   "execution_count": 7,
   "id": "61dd9e32",
   "metadata": {},
   "outputs": [
    {
     "name": "stdout",
     "output_type": "stream",
     "text": [
      "1859 712\n",
      "currentTopMover.png  is resized\n",
      "1859 712\n",
      "indicators.png  is resized\n"
     ]
    }
   ],
   "source": [
    "# Resizing the images to give them the same width and height\n",
    "for file in os.listdir('.'):\n",
    "    if file.endswith(\".jpg\") or file.endswith(\".jpeg\") or file.endswith(\"png\"):\n",
    "        # Opening image using PIL Image\n",
    "        im = Image.open(os.path.join(path, file))\n",
    "\n",
    "        # im.size includes the height and width of the image\n",
    "        width, height = im.size\n",
    "        print(width, height)\n",
    "        \n",
    "        # Resizing\n",
    "        imResize = im.convert('RGB')\n",
    "        imResize = imResize.resize((mean_width, mean_height), Image.ANTIALIAS)\n",
    "        imResize.save(file, 'JPEG', quality=95)  # Setting quality\n",
    "        # Printing each resized image name\n",
    "        print(im.filename.split('\\\\')[-1], \" is resized\")"
   ]
  },
  {
   "cell_type": "code",
   "execution_count": 8,
   "id": "a2f49f34",
   "metadata": {},
   "outputs": [
    {
     "name": "stdout",
     "output_type": "stream",
     "text": [
      "['currentTopMover.png', 'indicators.png']\n",
      "Moviepy - Building video mygeneratedvideo.mp4.\n",
      "MoviePy - Writing audio in mygeneratedvideoTEMP_MPY_wvf_snd.mp3\n"
     ]
    },
    {
     "name": "stderr",
     "output_type": "stream",
     "text": [
      "                                                                                                                       \r"
     ]
    },
    {
     "name": "stdout",
     "output_type": "stream",
     "text": [
      "MoviePy - Done.\n",
      "Moviepy - Writing video mygeneratedvideo.mp4\n",
      "\n"
     ]
    },
    {
     "name": "stderr",
     "output_type": "stream",
     "text": [
      "                                                                                                                       \r"
     ]
    },
    {
     "name": "stdout",
     "output_type": "stream",
     "text": [
      "Moviepy - Done !\n",
      "Moviepy - video ready mygeneratedvideo.mp4\n"
     ]
    }
   ],
   "source": [
    "# Video Generating function\n",
    "def generate_video():\n",
    "    image_folder = '.'\n",
    "    video_name = 'mygeneratedvideo.mp4'\n",
    "    os.chdir(\"C:/Users/nites/Downloads/ML Project/images\")  # Image folder\n",
    "\n",
    "    images = [img for img in os.listdir(image_folder)\n",
    "              if img.endswith(\".jpg\") or\n",
    "              img.endswith(\".jpeg\") or\n",
    "              img.endswith(\"png\")]\n",
    "\n",
    "    # Array images should only consider the image files ignoring others if any\n",
    "    print(images)\n",
    "\n",
    "    frame = cv2.imread(os.path.join(image_folder, images[0]))\n",
    "\n",
    "    # Setting the frame width, height width the width, height of the first image\n",
    "    height, width, layers = frame.shape\n",
    "    fourcc = cv2.VideoWriter_fourcc('m', 'p', '4', 'v')\n",
    "    video = cv2.VideoWriter(video_name, fourcc, 1, (width, height))\n",
    "\n",
    "    # Appending the images to the video one by one\n",
    "    for image in images:\n",
    "        for i in range(0, 4):\n",
    "            video.write(cv2.imread(os.path.join(image_folder, image)))\n",
    "\n",
    "    # Deallocating memories taken for window creation\n",
    "    cv2.destroyAllWindows()\n",
    "    video.release()  # Releasing the generated video\n",
    "\n",
    "\n",
    "# Calling the generate_video function\n",
    "generate_video()\n",
    "\n",
    "# Loading video dsa gfg intro video\n",
    "clip = VideoFileClip(\"mygeneratedvideo.mp4\")\n",
    "\n",
    "# Loading audio file\n",
    "audioclip = AudioFileClip(\"audio.mp3\")\n",
    "\n",
    "# Adding audio to the video clip\n",
    "videoclip = clip.set_audio(audioclip)\n",
    "\n",
    "videoclip.write_videofile('mygeneratedvideo.mp4')"
   ]
  }
 ],
 "metadata": {
  "kernelspec": {
   "display_name": "Python 3 (ipykernel)",
   "language": "python",
   "name": "python3"
  },
  "language_info": {
   "codemirror_mode": {
    "name": "ipython",
    "version": 3
   },
   "file_extension": ".py",
   "mimetype": "text/x-python",
   "name": "python",
   "nbconvert_exporter": "python",
   "pygments_lexer": "ipython3",
   "version": "3.10.9"
  }
 },
 "nbformat": 4,
 "nbformat_minor": 5
}
